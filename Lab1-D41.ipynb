{
 "cells": [
  {
   "cell_type": "markdown",
   "metadata": {},
   "source": [
    "<h1><center>ECE 449 - Intelligent Systems Engineering<br><br>\n",
    "Lab 1: Fuzzy Logic Concepts</center></h1>\n",
    "<hr>\n",
    "<b> Lab date:</b> <i> Thursday, September 19, 2019 -- 2:00 - 4:50 PM </i>\n",
    "<br>\n",
    "<b> Room:</b> <i> ETLC E5-013 </i>\n",
    "<br>\n",
    "<b> Lab report due:</b> <i>Wednesday, October 2, 2019 -- 3:50 PM </i>\n",
    "<hr>\n",
    "\n",
    "<h2>1. Objectives</h2>\n",
    "The objectives of this lab are to become familiar with the basic concepts of fuzzy logic.  These concepts include:\n",
    "<ul>\n",
    "    <li>defining membership functions and modifying them with linguistic terms</li>\n",
    "    <li>performing various operations on fuzzy sets</li>\n",
    "    <li>representing fuzzy sets using $\\alpha$-cuts</li>\n",
    "    <li>constructing fuzzy relations, projections, and cylindrical extensions</li>\n",
    "    <li>performing composition and using it in compositional rules of inference</li>\n",
    "</ul>\n",
    "\n",
    "<h2>2. Expectations</h2>\n",
    "Complete the pre-lab, and hand it in before the lab starts.  A formal lab report is required for this lab, which will be the completed version of this notebook.  There is a marking guide at the end of the lab manual.  If figures are required, label the axes and provide a legend when appropriate.  An abstract, introduction, and conclusion are required as well, for which cells are provided at the end of the notebook.  The abstract should be a brief description of the topic, the introduction a description of the goals of the lab, and the conclusion a summary of what you learned, what you found difficult, and your own ideas and observations.\n",
    "\n",
    "<h2>3. Pre-lab</h2>\n",
    "&emsp;1. Why is defuzzification an important step when using fuzzy sets?\n",
    "<br><br>\n",
    "We also strongly recommend that you look over section 1 of the Python supplement to familiarize yourself with Jupyter notebooks and install the necessary libraries for future labs.\n",
    "\n",
    "<h2>4. Introduction</h2>\n",
    "<i>Fuzzy logic</i> is a form of logic in which the truth values of variables can range from the interval of 0 to 1, instead of exclusively 0 or 1.  This can be used to solve problems in a more human-like way by allowing gradual membership in sets.  These fuzzy sets form inputs and outputs to linguistic relations that can be easily constructed, such as:\n",
    "\n",
    "<center><b>IF</b> <i>temp</i> <b>IS</b> HOT <b>THEN</b> <i>fan</i> <b>IS</b> HIGH</center>\n",
    "<br>\n",
    "Employing fuzzy systems requires the user to first define membership functions that take values from 0 to 1, and are defined over the region of interest, called the <i>universe of discourse</i>.  One can apply linguistic modifiers (hedges) to modify the meaning of a fuzzy set, such as:\n",
    "\n",
    "<center><i>temp</i> <b>IS</b> VERY HOT, rather than <i>temp</i> <b>IS</b> HOT</center>\n",
    "<br>\n",
    "Similar to crisp sets, the <i>union</i>, <i>intersection</i>, and <i>complement</i> operators can be performed on fuzzy sets.  They may also be represented using a family of crisp sets, by using <i>$\\alpha$-cuts</i>.\n",
    "<br>\n",
    "Finally, a crucial aspect of fuzzy sets is the ability to form <i>relations</i> between two membership functions of different universes of discourse.  These relations bring forth more operations, such as <i>projection</i>, <i>reconstruction</i>, <i>cylindrical extension</i>, <i>sup-t composition</i>, <i>compositional rule of inference</i>, and <i>defuzzification</i>.\n",
    "\n",
    "<h2>5. Background</h2>\n",
    "Automatic monitoring stations are used to characterize the quality of the environment in the Arctic by collecting meteorological data at regular intervals.  Because of how remote these locations are, the monitoring stations are designed to generate and store power from renewable resources, namely the sun and wind, to minimize the frequency of maintenance required.  However, due to the polar nights and long winters, solar radiation reaching the ground during these times is very low or non-existent.  Consequently, this can lead to long intervals during which there is no remaining power, and no data is collected.  To avoid this, the duty cycle of the monitoring station can be adjusted in order to conserve power.  A controller to determine the optimal duty cycle can be built using fuzzy logic based on two factors: <i>state of charge</i> (SOC) of the battery and <i>future average power</i> (P) from the renewable resources.  For example, one such rule could be as follows:\n",
    "\n",
    "<center><b>IF</b> <i>state of charge</i> <b>IS</b> LOW <b>AND</b> <i>future average power</i> <b>IS</b> MEDIUM <b>THEN</b> <i>duty cycle<i> <b>IS</b> MEDIUM</center>\n",
    "<br>\n",
    "In the case where this rule would apply, the monitoring station could only take measurements for around half of its regular period to conserve power, and obtain data more frequently than what the previous method would offer.  The next two labs will focus on this concept and work towards building a fuzzy controller to manage the power consumption of a monitoring station."
   ]
  },
  {
   "cell_type": "markdown",
   "metadata": {},
   "source": [
    "<h2>6. Experimental Procedure</h2>\n",
    "If you have not yet installed the skfuzzy library, run the cell below."
   ]
  },
  {
   "cell_type": "code",
   "execution_count": null,
   "metadata": {
    "collapsed": true
   },
   "outputs": [],
   "source": [
    "%%bash\n",
    "# \"--user\" is essential to install in local environment\"\n",
    "pip install --user -U scikit-fuzzy"
   ]
  },
  {
   "cell_type": "markdown",
   "metadata": {},
   "source": [
    "Run the cell below to import the libraries required to complete this lab."
   ]
  },
  {
   "cell_type": "code",
   "execution_count": null,
   "metadata": {},
   "outputs": [],
   "source": [
    "%matplotlib inline\n",
    "\n",
    "import numpy as np                          # General math operations\n",
    "import matplotlib.pyplot as plt             # Data visualization\n",
    "from mpl_toolkits.mplot3d import Axes3D     # 3D data visualization\n",
    "import skfuzzy as fuzz                      # Fuzzy toolbox"
   ]
  },
  {
   "cell_type": "markdown",
   "metadata": {},
   "source": [
    "<h4>Exercise 1:&nbsp;&nbsp; Membership functions</h4>\n",
    "Consider a weather station with a battery that has a minimum state of charge of 20% (and a maximum state of charge of 100%).\n",
    "<br>\n",
    "<ol>\n",
    "    <li>Define the universe of discourse for state of charge from 20 to 100, using 81 discrete elements.</li>\n",
    "</ol>"
   ]
  },
  {
   "cell_type": "code",
   "execution_count": null,
   "metadata": {
    "collapsed": true
   },
   "outputs": [],
   "source": []
  },
  {
   "cell_type": "markdown",
   "metadata": {},
   "source": [
    "<ol start=2>\n",
    "    <li>Plot the trapezoidal membership functions, LOW, MEDIUM, and HIGH, on one figure according to the parameters given below.</li>\n",
    "</ol>\n",
    "\n",
    "\\begin{array}{l c c c c}\n",
    "\\hline\n",
    "Fuzzy\\ set & a & b & c & d \\\\\n",
    "\\hline\n",
    "LOW & 20 & 20 & 22 & 38 \\\\\n",
    "MEDIUM & 22 & 38 & 42 & 58 \\\\\n",
    "HIGH & 42 & 58 & 100 & 100\\\\\n",
    "\\hline\n",
    "\\end{array}"
   ]
  },
  {
   "cell_type": "code",
   "execution_count": null,
   "metadata": {
    "collapsed": true
   },
   "outputs": [],
   "source": []
  },
  {
   "cell_type": "markdown",
   "metadata": {},
   "source": [
    "<h4>Exercise 2:&nbsp;&nbsp; Linguistic modifiers</h4>\n",
    "Modify the fuzzy set HIGH state of charge to VERY HIGH state of charge and MORE OR LESS HIGH state of charge.\n",
    "<br>\n",
    "<ol>\n",
    "    <li>Plot HIGH, VERY HIGH, and MORE OR LESS HIGH on the same figure.</li>\n",
    "</ol>"
   ]
  },
  {
   "cell_type": "code",
   "execution_count": null,
   "metadata": {
    "collapsed": true
   },
   "outputs": [],
   "source": []
  },
  {
   "cell_type": "markdown",
   "metadata": {},
   "source": [
    "<h4>Exercise 3:&nbsp;&nbsp; Fuzzy set operations</h4>\n",
    "On separate figures, plot the following fuzzy sets:\n",
    "<br>\n",
    "<ol>\n",
    "    <li>Union of LOW and MEDIUM</li>\n",
    "</ol>"
   ]
  },
  {
   "cell_type": "code",
   "execution_count": null,
   "metadata": {
    "collapsed": true
   },
   "outputs": [],
   "source": []
  },
  {
   "cell_type": "markdown",
   "metadata": {},
   "source": [
    "<ol start=2>\n",
    "    <li>Intersection of LOW and MEDIUM</li>\n",
    "</ol>"
   ]
  },
  {
   "cell_type": "code",
   "execution_count": null,
   "metadata": {
    "collapsed": true
   },
   "outputs": [],
   "source": []
  },
  {
   "cell_type": "markdown",
   "metadata": {},
   "source": [
    "<ol start=3>\n",
    "    <li>Complement of HIGH</li>\n",
    "</ol>"
   ]
  },
  {
   "cell_type": "code",
   "execution_count": null,
   "metadata": {
    "collapsed": true
   },
   "outputs": [],
   "source": []
  },
  {
   "cell_type": "markdown",
   "metadata": {},
   "source": [
    "<h4>Exercise 4:&nbsp;&nbsp; $\\alpha$-cuts</h4>\n",
    "Using the HIGH state of charge fuzzy set,\n",
    "<br>\n",
    "<ol>\n",
    "    <li>Plot the individual $\\alpha$-cuts for $\\alpha$ = {1.0, 0.75, 0.50, 0.25} on the same figure.</li>\n",
    "</ol>"
   ]
  },
  {
   "cell_type": "code",
   "execution_count": null,
   "metadata": {
    "collapsed": true
   },
   "outputs": [],
   "source": []
  },
  {
   "cell_type": "markdown",
   "metadata": {},
   "source": [
    "<ol start=2>\n",
    "    <li>Plot the original fuzzy set and its $\\alpha$-cut reconstruction on the same figure.</li>\n",
    "</ol>\n",
    "&emsp;HINT: The <b>np.amax()</b> function is helpful in reconstructing the fuzzy set."
   ]
  },
  {
   "cell_type": "code",
   "execution_count": null,
   "metadata": {
    "collapsed": true
   },
   "outputs": [],
   "source": []
  },
  {
   "cell_type": "markdown",
   "metadata": {},
   "source": [
    "<ol start=3>\n",
    "    <li>Comment on the quality of the $\\alpha$-cut reconstruction.</li>\n",
    "</ol>"
   ]
  },
  {
   "cell_type": "raw",
   "metadata": {},
   "source": []
  },
  {
   "cell_type": "markdown",
   "metadata": {},
   "source": [
    "<h4>Exercise 5:&nbsp;&nbsp; Relations</h4>\n",
    "Based off of typical meteorological data, the locations in which the monitoring stations are situated can only provide future average power from 0W to 100W.\n",
    "<br>\n",
    "<ol>\n",
    "    <li>Define the universe of discourse for future average power from 0 to 100, using 101 discrete elements.</li>\n",
    "</ol>"
   ]
  },
  {
   "cell_type": "code",
   "execution_count": null,
   "metadata": {
    "collapsed": true
   },
   "outputs": [],
   "source": []
  },
  {
   "cell_type": "markdown",
   "metadata": {},
   "source": [
    "<ol start=2>\n",
    "    <li>Plot the trapezoidal membership functions, SCARCE, AVERAGE, and ABUNDANT, one on figure according to the parameters given below.</li>\n",
    "</ol>\n",
    "\n",
    "\\begin{array}{l c c c c}\n",
    "\\hline\n",
    "Fuzzy\\ set & a & b & c & d \\\\\n",
    "\\hline\n",
    "SCARCE & 0 & 0 & 30 & 35 \\\\\n",
    "AVERAGE & 30 & 35 & 40 & 45 \\\\\n",
    "ABUNDANT & 40 & 45 & 100 & 100\\\\\n",
    "\\hline\n",
    "\\end{array}"
   ]
  },
  {
   "cell_type": "code",
   "execution_count": null,
   "metadata": {
    "collapsed": true
   },
   "outputs": [],
   "source": []
  },
  {
   "cell_type": "markdown",
   "metadata": {},
   "source": [
    "<ol start=3>\n",
    "    <li>Using <i>Larsen implication</i>, define the relation $R(MEDIUM,\\ AVERAGE)$.  Plot the relation matrix.</li>\n",
    "</ol>"
   ]
  },
  {
   "cell_type": "code",
   "execution_count": null,
   "metadata": {
    "collapsed": true
   },
   "outputs": [],
   "source": []
  },
  {
   "cell_type": "markdown",
   "metadata": {},
   "source": [
    "<ol start=4>\n",
    "    <li>What is the meaning of the individual rows of the relation matrix?  What does the first row mean?</li>\n",
    "</ol>"
   ]
  },
  {
   "cell_type": "raw",
   "metadata": {},
   "source": []
  },
  {
   "cell_type": "markdown",
   "metadata": {
    "collapsed": true
   },
   "source": [
    "<h4>Exercise 6:&nbsp;&nbsp; Projections</h4>\n",
    "Determine both projections of the fuzzy relation $R(MEDIUM, AVERAGE)$.\n",
    "<br>\n",
    "<ol>\n",
    "    <li>Print both projections as vectors.</li>\n",
    "</ol>"
   ]
  },
  {
   "cell_type": "code",
   "execution_count": null,
   "metadata": {
    "collapsed": true
   },
   "outputs": [],
   "source": []
  },
  {
   "cell_type": "markdown",
   "metadata": {},
   "source": [
    "<h4>Exercise 7:&nbsp;&nbsp; Reconstruction</h4>\n",
    "Perform reconstruction of the fuzzy relation using the projections.\n",
    "<br>\n",
    "<ol>\n",
    "    <li>Does the reconstructed relation correspond to the original relation?</li>\n",
    "</ol>"
   ]
  },
  {
   "cell_type": "code",
   "execution_count": null,
   "metadata": {
    "collapsed": true
   },
   "outputs": [],
   "source": []
  },
  {
   "cell_type": "raw",
   "metadata": {},
   "source": []
  },
  {
   "cell_type": "markdown",
   "metadata": {},
   "source": [
    "<ol start=2>\n",
    "    <li>Can an arbitrary relation always be fully reconstructed from its projections?  If not, give an example for which a relation cannot be reconstructed accurately.</li>"
   ]
  },
  {
   "cell_type": "raw",
   "metadata": {},
   "source": []
  },
  {
   "cell_type": "markdown",
   "metadata": {},
   "source": [
    "<h4>Exercise 8:&nbsp;&nbsp; Cylindrical extension</h4>\n",
    "Realize the cylindrical extension of the projection with respect to MEDIUM of the fuzzy relation obtained in Exercise 5.\n",
    "<br>\n",
    "<ol>\n",
    "    <li>Print the resulting matrix.</li>\n",
    "</ol>"
   ]
  },
  {
   "cell_type": "code",
   "execution_count": null,
   "metadata": {
    "collapsed": true
   },
   "outputs": [],
   "source": []
  },
  {
   "cell_type": "markdown",
   "metadata": {},
   "source": [
    "<h4>Exercise 9:&nbsp;&nbsp; Sup-t composition</h4>\n",
    "Three monitoring stations positioned at different locations are checked and assigned membership values in the state of charge fuzzy sets.  The findings are expressed as a relation, $LocationSOC(location, state\\ of\\ charge)$, and defined using the following matrix:\n",
    "\n",
    "<center>\n",
    "$\n",
    "LocationSOC =\n",
    "  \\begin{bmatrix}\n",
    "    0.84 & 0.08 & 0 \\\\\n",
    "    0.03 & 0.5  & 0.08 \\\\\n",
    "    0    & 0.1  & 0.8 \n",
    "  \\end{bmatrix}\n",
    "$\n",
    "</center>\n",
    "\n",
    "Each row in the matrix corresponds to a monitoring station, and the columns give the membership values in the fuzzy sets, LOW, MEDIUM, and HIGH, respectively.  For example, the last monitoring station has a 0 LOW, 0.1 MEDIUM, and a 0.8 HIGH state of charge.\n",
    "<br>\n",
    "Additionally, it was determined how the state of charge of the monitoring station corresponds to the future average power of its location.  This is represented by the relation, $SOCPower(state\\ of\\ charge, future\\ average\\ power)$, found below.\n",
    "\n",
    "<center>\n",
    "$\n",
    "SOCPower =\n",
    "  \\begin{bmatrix}\n",
    "    1 & 0.3 & 0 \\\\\n",
    "    0.2 & 0.5  & 0.3 \\\\\n",
    "    0    & 0.5  & 1 \n",
    "  \\end{bmatrix}\n",
    "$\n",
    "</center>\n",
    "<ol>\n",
    "    <li>Determine the max-min composition $c_{1} = LocationSOC \\circ SOCPower$ and $c_{2} = SOCPower^{T} \\circ LocationSOC^{T}$ and print the resulting matrices.</li>\n",
    "</ol>"
   ]
  },
  {
   "cell_type": "code",
   "execution_count": null,
   "metadata": {
    "collapsed": true
   },
   "outputs": [],
   "source": []
  },
  {
   "cell_type": "markdown",
   "metadata": {},
   "source": [
    "<ol start=2>\n",
    "    <li>How can you interpret these relations?</li>\n",
    "</ol>"
   ]
  },
  {
   "cell_type": "raw",
   "metadata": {},
   "source": []
  },
  {
   "cell_type": "markdown",
   "metadata": {},
   "source": [
    "<h4>Exercise 10:&nbsp;&nbsp; Compositional rule of inference</h4>\n",
    "Another monitoring station was checked and found to have a state of charge of 28%.  Use a compositional rule of inference to determine the future average power fuzzy set based on the knowledge of a monitoring station with LOW state of charge in a location with SCARCE future average power.\n",
    "<br>\n",
    "<ol>\n",
    "    <li>Express the item as a fuzzy singleton on the SOC universe of discourse.</li>\n",
    "</ol>"
   ]
  },
  {
   "cell_type": "code",
   "execution_count": null,
   "metadata": {
    "collapsed": true
   },
   "outputs": [],
   "source": []
  },
  {
   "cell_type": "markdown",
   "metadata": {},
   "source": [
    "<ol start=2>\n",
    "    <li>Use <i>Mamdani implication</i> to define the relation between LOW and SCARCE.</li>\n",
    "</ol>"
   ]
  },
  {
   "cell_type": "code",
   "execution_count": 1,
   "metadata": {
    "collapsed": true
   },
   "outputs": [],
   "source": []
  },
  {
   "cell_type": "markdown",
   "metadata": {},
   "source": [
    "<ol start=3>\n",
    "    <li>Use the relation to derive the associated fuzzy set.  Print this fuzzy set as a vector.</li>\n",
    "</ol>"
   ]
  },
  {
   "cell_type": "code",
   "execution_count": null,
   "metadata": {
    "collapsed": true
   },
   "outputs": [],
   "source": []
  },
  {
   "cell_type": "markdown",
   "metadata": {
    "collapsed": true
   },
   "source": [
    "<h4>Exercise 11:&nbsp;&nbsp; Defuzzification</h4>\n",
    "Determine the crisp value of the fuzzy set obtained from the CRI applied in the previous exercise.  Use the Mean of Maxima (MOM) defuzzification method.\n",
    "<br>\n",
    "<ol>\n",
    "    <li>Print the resulting future average power of the location.</li>\n",
    "</ol>"
   ]
  },
  {
   "cell_type": "code",
   "execution_count": null,
   "metadata": {
    "collapsed": true
   },
   "outputs": [],
   "source": []
  },
  {
   "cell_type": "markdown",
   "metadata": {},
   "source": [
    "<hr>\n",
    "<hr>"
   ]
  },
  {
   "cell_type": "markdown",
   "metadata": {},
   "source": [
    "<h2>Abstract</h2>"
   ]
  },
  {
   "cell_type": "raw",
   "metadata": {},
   "source": []
  },
  {
   "cell_type": "markdown",
   "metadata": {},
   "source": [
    "<h2>Introduction</h2>"
   ]
  },
  {
   "cell_type": "raw",
   "metadata": {},
   "source": []
  },
  {
   "cell_type": "markdown",
   "metadata": {},
   "source": [
    "<h2>Conclusion</h2>"
   ]
  },
  {
   "cell_type": "raw",
   "metadata": {},
   "source": []
  },
  {
   "cell_type": "markdown",
   "metadata": {},
   "source": [
    "<center>\n",
    "<h3>Lab 1 Marking Guide</h3>\n",
    "<hr>\n",
    "</center>\n",
    "\n",
    "\\begin{array}{@{}clcc@{}}\n",
    "\\textbf{Exercise} & \\textbf{Item}           & \\textbf{Total Marks} & \\textbf{Earned Marks} \\\\ \n",
    "\\hline\n",
    "                  & Pre-lab                 & 1                     &               \\\\ \n",
    "                  & Abstract                & 1                     &               \\\\ \n",
    "                  & Introduction            & 1                     &               \\\\\n",
    "                  & Conclusion              & 2                     &               \\\\\n",
    "1                 & Membership\\ functions\t& 3                     &               \\\\\n",
    "2                 & Linguistic\\ modifiers   & 2                 \t&               \\\\\n",
    "3                 & Fuzzy\\ operations       & 3                 \t&               \\\\\n",
    "4                 & Alpha\\ cuts             & 3                 \t&               \\\\\n",
    "5                 & Fuzzy\\ relations        & 3                 \t&               \\\\\n",
    "6                 & Projections             & 3                 \t&               \\\\\n",
    "7                 & Reconstruction          & 3                 \t&               \\\\\n",
    "8                 & Cylindrical\\ extension  & 3                 \t&               \\\\\n",
    "9                 & Max-min\\ composition    & 3                 \t&               \\\\\n",
    "10                & CRI                     & 3                 \t&               \\\\\n",
    "11                & Defuzzification         & 3                 \t&               \\\\\n",
    "\\hline\n",
    "                  & \\textbf{TOTAL}          & 42                    &\n",
    "\\end{array}"
   ]
  }
 ],
 "metadata": {
  "kernelspec": {
   "display_name": "Python 3",
   "language": "python",
   "name": "python3"
  },
  "language_info": {
   "codemirror_mode": {
    "name": "ipython",
    "version": 3
   },
   "file_extension": ".py",
   "mimetype": "text/x-python",
   "name": "python",
   "nbconvert_exporter": "python",
   "pygments_lexer": "ipython3",
   "version": "3.7.4"
  }
 },
 "nbformat": 4,
 "nbformat_minor": 2
}
