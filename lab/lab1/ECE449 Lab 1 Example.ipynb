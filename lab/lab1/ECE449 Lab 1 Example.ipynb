{
 "cells": [
  {
   "cell_type": "markdown",
   "metadata": {},
   "source": [
    "# Lab 1 Examples"
   ]
  },
  {
   "cell_type": "code",
   "execution_count": 1,
   "metadata": {},
   "outputs": [],
   "source": [
    "%matplotlib inline\n",
    "import numpy as np\n",
    "from matplotlib import pylab as plt\n",
    "\n",
    "plt.style.use('ggplot')"
   ]
  },
  {
   "cell_type": "markdown",
   "metadata": {},
   "source": [
    "## Figures\n",
    "\n",
    "Each figure needs\n",
    "\n",
    "* Title\n",
    "* Labelled axes\n",
    "  * with units if applicable\n",
    "* legend\n",
    "\n",
    "If those are missing, the figure does not make much sense:"
   ]
  },
  {
   "cell_type": "code",
   "execution_count": 2,
   "metadata": {
    "scrolled": true
   },
   "outputs": [
    {
     "data": {
      "text/plain": [
       "<BarContainer object of 3 artists>"
      ]
     },
     "execution_count": 2,
     "metadata": {},
     "output_type": "execute_result"
    },
    {
     "data": {
      "image/png": "[encoded data removed]",
      "text/plain": [
       "<Figure size 432x288 with 1 Axes>"
      ]
     },
     "metadata": {
      "needs_background": "light"
     },
     "output_type": "display_data"
    }
   ],
   "source": [
    "figure1_data = [142.6, 60.3, 29]\n",
    "\n",
    "figure1_indexes = np.arange(len(figure1_data))\n",
    "\n",
    "plt.figure()\n",
    "plt.bar(figure1_indexes, figure1_data)"
   ]
  },
  {
   "cell_type": "markdown",
   "metadata": {},
   "source": [
    "&nbsp;\n",
    "\n",
    "&nbsp;\n",
    "\n",
    "&nbsp;\n",
    "\n",
    "&nbsp;\n",
    "\n",
    "&nbsp;\n",
    "\n",
    "&nbsp;\n",
    "\n",
    "&nbsp;\n",
    "\n",
    "&nbsp;\n",
    "\n",
    "&nbsp;"
   ]
  },
  {
   "cell_type": "markdown",
   "metadata": {},
   "source": [
    "**Who can make sense of the previous plot?**\n",
    "\n",
    "Lets try it again:"
   ]
  },
  {
   "cell_type": "code",
   "execution_count": null,
   "metadata": {},
   "outputs": [],
   "source": [
    "plt.figure()\n",
    "plt.bar(np.arange(len(figure1_data)), figure1_data)\n",
    "\n",
    "figure1_ticks = ['Czech Republic', 'Canada', 'Italy']\n",
    "plt.xticks(figure1_indexes, figure1_ticks)\n",
    "\n",
    "plt.title('Annual beer consumption per capita of selected countries')\n",
    "plt.ylabel('litres of beer')"
   ]
  },
  {
   "cell_type": "markdown",
   "metadata": {},
   "source": [
    "Source of data: https://en.wikipedia.org/wiki/List_of_countries_by_beer_consumption_per_capita"
   ]
  },
  {
   "cell_type": "markdown",
   "metadata": {},
   "source": [
    "## Subplots\n",
    "\n",
    "Reference: https://matplotlib.org/api/pyplot_api.html?highlight=matplotlib%20pyplot%20subplots#matplotlib.pyplot.subplot\n",
    "\n",
    "Demo: https://matplotlib.org/examples/pylab_examples/subplot_demo.html\n",
    "\n",
    "*MATLAB style* syntax:\n",
    "\n",
    "plt.subplot(nrows, ncols, plot_number)\n",
    "\n",
    "Example: I want to show 4 images with modified gamma"
   ]
  },
  {
   "cell_type": "code",
   "execution_count": null,
   "metadata": {},
   "outputs": [],
   "source": [
    "from skimage import data, exposure, img_as_float\n",
    "\n",
    "# Get the image from the galery of examples\n",
    "image = img_as_float(data.astronaut())\n",
    "\n",
    "# Open a new figure\n",
    "fig = plt.figure(figsize=(11, 11))\n",
    "fig.suptitle('Examples of changing the gamma correction')\n",
    "\n",
    "# Select the grid dimension and switch to the first subplot\n",
    "# Plot the original\n",
    "plt.subplot(2,2,1)\n",
    "plt.imshow(image)\n",
    "plt.axis('off')\n",
    "plt.title('Original image')\n",
    "\n",
    "# Select the grid dimension and switch to the second subplot\n",
    "plt.subplot(2,2,2)\n",
    "\n",
    "# Plot modification #1\n",
    "gamma_corrected = exposure.adjust_gamma(image, 0.5)\n",
    "plt.imshow(gamma_corrected)\n",
    "plt.axis('off')\n",
    "plt.title('Gamma 0.5')\n",
    "\n",
    "\n",
    "# Select the grid dimension and switch to the third subplot\n",
    "plt.subplot(2,2,3)\n",
    "\n",
    "# Plot modification #12\n",
    "gamma_corrected = exposure.adjust_gamma(image, 2)\n",
    "plt.imshow(gamma_corrected)\n",
    "plt.axis('off')\n",
    "plt.title('Gamma 2')\n",
    "\n",
    "\n",
    "# Select the grid dimension and switch to the fourth subplot\n",
    "plt.subplot(2,2,4)\n",
    "\n",
    "# Plot modification #3\n",
    "gamma_corrected = exposure.adjust_gamma(image, 8)\n",
    "plt.imshow(gamma_corrected)\n",
    "plt.axis('off')\n",
    "plt.title('Gamma 8')"
   ]
  }
 ],
 "metadata": {
  "kernelspec": {
   "display_name": "Python 3",
   "language": "python",
   "name": "python3"
  },
  "language_info": {
   "codemirror_mode": {
    "name": "ipython",
    "version": 3
   },
   "file_extension": ".py",
   "mimetype": "text/x-python",
   "name": "python",
   "nbconvert_exporter": "python",
   "pygments_lexer": "ipython3",
   "version": "3.7.4"
  }
 },
 "nbformat": 4,
 "nbformat_minor": 2
}
